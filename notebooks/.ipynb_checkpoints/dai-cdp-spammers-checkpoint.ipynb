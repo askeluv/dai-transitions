{
 "cells": [
  {
   "cell_type": "code",
   "execution_count": 1,
   "metadata": {},
   "outputs": [],
   "source": [
    "import pandas as pd\n",
    "import matplotlib\n",
    "import sys\n",
    "sys.path.append(\"..\") # so we can import our custom utils module\n",
    "import utils\n",
    "import mkr_tools\n",
    "from functools import reduce\n",
    "%matplotlib inline"
   ]
  },
  {
   "cell_type": "code",
   "execution_count": 2,
   "metadata": {},
   "outputs": [],
   "source": [
    "cdps_raw = mkr_tools.fetch_all_cdps()\n",
    "cdps = pd.DataFrame(cdps_raw).set_index('id', drop=True).sort_index()"
   ]
  },
  {
   "cell_type": "code",
   "execution_count": 3,
   "metadata": {},
   "outputs": [
    {
     "name": "stderr",
     "output_type": "stream",
     "text": [
      "/Users/asvanevik/.local/share/virtualenvs/dai-transitions-Zkp5Dqfu/lib/python3.6/site-packages/pandas/plotting/_converter.py:129: FutureWarning: Using an implicitly registered datetime converter for a matplotlib plotting method. The converter was registered by pandas on import. Future versions of pandas will require you to explicitly register matplotlib converters.\n",
      "\n",
      "To register the converters:\n",
      "\t>>> from pandas.plotting import register_matplotlib_converters\n",
      "\t>>> register_matplotlib_converters()\n",
      "  warnings.warn(msg, FutureWarning)\n"
     ]
    },
    {
     "data": {
      "image/png": "[encoded data removed]",
      "text/plain": [
       "<Figure size 1440x216 with 1 Axes>"
      ]
     },
     "metadata": {
      "needs_background": "light"
     },
     "output_type": "display_data"
    }
   ],
   "source": [
    "cdps['ts'] = cdps.timestamp.map(lambda x: pd.Timestamp.fromtimestamp(x / 1000))\n",
    "cdps['ts'].hist(figsize=(20,3), bins=100);"
   ]
  },
  {
   "cell_type": "code",
   "execution_count": 4,
   "metadata": {},
   "outputs": [
    {
     "data": {
      "text/plain": [
       "0x2bEFE9dB7431FC454F730cDae94287b1002d758A    4884\n",
       "0x85d035564B0Fd2dbF5c11eD4b293905ec900eAdf    1610\n",
       "0x1A07Fd4786d38288D60D10E7181C596A4f5d8f38     238\n",
       "0x91e8ab0B809435Dd69372EbBe8f176Ab74Bb8Ddc      49\n",
       "0xaba57DAB95eCdb24fe93ce1DeE1149F196A53c76       6\n",
       "0x3A306a399085F3460BbcB5b77015Ab33806A10d5       3\n",
       "0x3C0a53f245B2680287B6438A9d716B46D4bdFd1c       1\n",
       "0xEc84D990F9B00E0a4d6C3Fb53667587b1f247790       1\n",
       "0xf6F941bC1CEe48AC8245bCaB66f73990817ccf29       1\n",
       "0x6D6443383c12EbdA021F8B390Ec843267ffB35e4       1\n",
       "Name: lad, dtype: int64"
      ]
     },
     "execution_count": 4,
     "metadata": {},
     "output_type": "execute_result"
    }
   ],
   "source": [
    "spam_timestamps = list(cdps['ts'].value_counts()[cdps['ts'].value_counts() > 5].index)\n",
    "cdps[cdps.ts.map(lambda x: x in spam_timestamps)].lad.value_counts()[:10]"
   ]
  },
  {
   "cell_type": "code",
   "execution_count": 5,
   "metadata": {},
   "outputs": [
    {
     "data": {
      "text/plain": [
       "0x2bEFE9dB7431FC454F730cDae94287b1002d758A    4890\n",
       "0x0000000000000000000000000000000000000000    3133\n",
       "0x85d035564B0Fd2dbF5c11eD4b293905ec900eAdf    1612\n",
       "0x3A306a399085F3460BbcB5b77015Ab33806A10d5     246\n",
       "0x1A07Fd4786d38288D60D10E7181C596A4f5d8f38     238\n",
       "0x046Ce6b8eCb159645d3A605051EE37BA93B6efCc     123\n",
       "0xaba57DAB95eCdb24fe93ce1DeE1149F196A53c76      63\n",
       "0x91e8ab0B809435Dd69372EbBe8f176Ab74Bb8Ddc      49\n",
       "0x641b470Ab5Fe8BD2De95c2Ec9EF6c6CEf1f75b0F      43\n",
       "0xF02158a00E9fdEa27503402ceD89F871Be60fC4a      19\n",
       "0xBDc761078D698b1eD53B646d3f68cDadfBD19F60      19\n",
       "0x5192bc4733e221D95E0E9e86AF9434035eeacc2d      12\n",
       "0x12266229e3efb7c46ff2ADD936aeBa4135170699      10\n",
       "0x6c180dA0Ea918bAC24CEb7B0301A5fA1b0878108      10\n",
       "0x187A5cD08FA9299E41B9A4cCC8F6EE6981E2d2c3       9\n",
       "0x41524E95021189Bcf3B56cad8d4C2ec7A11BdD6c       8\n",
       "0x76883678B7e4bDBCE1Afd09AA8F8A2840429daCc       7\n",
       "0x1958fAB172ae554bFac1D60C1C1E64Faa1849994       7\n",
       "0xFa79C94Db10c11CaE0bFf2e2f17E2b90FBCb870d       7\n",
       "0xD8689326B25e28C2133DDC7c972264E759D49842       6\n",
       "0x078eBdb16a916b4D006d3bD552c65df768019d71       6\n",
       "Name: lad, dtype: int64"
      ]
     },
     "execution_count": 5,
     "metadata": {},
     "output_type": "execute_result"
    }
   ],
   "source": [
    "cdps.lad.value_counts()[cdps.lad.value_counts() > 5]"
   ]
  },
  {
   "cell_type": "code",
   "execution_count": 6,
   "metadata": {},
   "outputs": [],
   "source": [
    "spam_addresses = ['0x2befe9db7431fc454f730cdae94287b1002d758a',\n",
    "                  '0x85d035564b0fd2dbf5c11ed4b293905ec900eadf',\n",
    "                  '0x1a07fd4786d38288d60d10e7181c596a4f5d8f38',\n",
    "                  '0x91e8ab0b809435dd69372ebbe8f176ab74bb8ddc',\n",
    "                  '0x641b470ab5fe8bd2de95c2ec9ef6c6cef1f75b0f',\n",
    "                  '0xaba57dab95ecdb24fe93ce1dee1149f196a53c76' # not a contract, but has suspicious timestamps\n",
    "                 ]"
   ]
  },
  {
   "cell_type": "code",
   "execution_count": 7,
   "metadata": {},
   "outputs": [],
   "source": [
    "nonspam_cdps = cdps[cdps.lad.map(lambda x: x.lower() not in spam_addresses)]"
   ]
  },
  {
   "cell_type": "code",
   "execution_count": 8,
   "metadata": {},
   "outputs": [
    {
     "data": {
      "image/png": "[encoded data removed]",
      "text/plain": [
       "<Figure size 1440x216 with 1 Axes>"
      ]
     },
     "metadata": {
      "needs_background": "light"
     },
     "output_type": "display_data"
    }
   ],
   "source": [
    "days = (nonspam_cdps['ts'].max() - nonspam_cdps['ts'].min()).days\n",
    "nonspam_cdps['ts'].hist(figsize=(20,3), bins=days);"
   ]
  }
 ],
 "metadata": {
  "kernelspec": {
   "display_name": "Python 3",
   "language": "python",
   "name": "python3"
  },
  "language_info": {
   "codemirror_mode": {
    "name": "ipython",
    "version": 3
   },
   "file_extension": ".py",
   "mimetype": "text/x-python",
   "name": "python",
   "nbconvert_exporter": "python",
   "pygments_lexer": "ipython3",
   "version": "3.6.5"
  }
 },
 "nbformat": 4,
 "nbformat_minor": 2
}
