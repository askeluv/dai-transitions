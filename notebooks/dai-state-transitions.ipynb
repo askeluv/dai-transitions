{
 "cells": [
  {
   "cell_type": "code",
   "execution_count": 1,
   "metadata": {},
   "outputs": [],
   "source": [
    "import pandas as pd\n",
    "import sys\n",
    "sys.path.append(\"..\") # so we can import our custom utils module\n",
    "import utils\n",
    "from functools import reduce"
   ]
  },
  {
   "cell_type": "code",
   "execution_count": 2,
   "metadata": {},
   "outputs": [],
   "source": [
    "df = pd.read_excel('../data/debt_lives_processed.xlsx')"
   ]
  },
  {
   "cell_type": "markdown",
   "metadata": {},
   "source": [
    "### Reshape dataset to a list of state sequences\n",
    "Each sequence represents the state lifecycle of an individual CDP.\n",
    "\n",
    "Every state in the sequence has a timestamp and the number of seconds the CDP stayed in this state."
   ]
  },
  {
   "cell_type": "code",
   "execution_count": 3,
   "metadata": {},
   "outputs": [
    {
     "data": {
      "text/plain": [
       "[[('safe', 1549495867.0, 0.0)],\n",
       " [('safe', 1549495085.0, 782.0)],\n",
       " [('safe', 1549493938.0, 1929.0)],\n",
       " [('safe', 1549492995.0, 2772.0), ('wiped', 1549495767.0, 100.0)],\n",
       " [('safe', 1549492791.0, 3076.0)]]"
      ]
     },
     "execution_count": 3,
     "metadata": {},
     "output_type": "execute_result"
    }
   ],
   "source": [
    "sequences = utils.dataframe_to_sequences(df)\n",
    "sequences[:5] # see first 5 CDPs represented as state sequences"
   ]
  },
  {
   "cell_type": "markdown",
   "metadata": {},
   "source": [
    "### Transition probabilities (discrete)\n",
    "Time unit = second"
   ]
  },
  {
   "cell_type": "code",
   "execution_count": 4,
   "metadata": {},
   "outputs": [
    {
     "data": {
      "text/html": [
       "<div>\n",
       "<style scoped>\n",
       "    .dataframe tbody tr th:only-of-type {\n",
       "        vertical-align: middle;\n",
       "    }\n",
       "\n",
       "    .dataframe tbody tr th {\n",
       "        vertical-align: top;\n",
       "    }\n",
       "\n",
       "    .dataframe thead th {\n",
       "        text-align: right;\n",
       "    }\n",
       "</style>\n",
       "<table border=\"1\" class=\"dataframe\">\n",
       "  <thead>\n",
       "    <tr style=\"text-align: right;\">\n",
       "      <th></th>\n",
       "      <th>safe</th>\n",
       "      <th>unsafe</th>\n",
       "      <th>wiped</th>\n",
       "      <th>bitten</th>\n",
       "      <th>shut</th>\n",
       "    </tr>\n",
       "  </thead>\n",
       "  <tbody>\n",
       "    <tr>\n",
       "      <th>safe</th>\n",
       "      <td>1.000000</td>\n",
       "      <td>5.351749e-08</td>\n",
       "      <td>2.391805e-07</td>\n",
       "      <td>9.889101e-09</td>\n",
       "      <td>6.011022e-09</td>\n",
       "    </tr>\n",
       "    <tr>\n",
       "      <th>unsafe</th>\n",
       "      <td>0.000072</td>\n",
       "      <td>9.991006e-01</td>\n",
       "      <td>7.966904e-05</td>\n",
       "      <td>7.473049e-04</td>\n",
       "      <td>2.329504e-07</td>\n",
       "    </tr>\n",
       "    <tr>\n",
       "      <th>wiped</th>\n",
       "      <td>0.000000</td>\n",
       "      <td>0.000000e+00</td>\n",
       "      <td>1.000000e+00</td>\n",
       "      <td>0.000000e+00</td>\n",
       "      <td>0.000000e+00</td>\n",
       "    </tr>\n",
       "    <tr>\n",
       "      <th>bitten</th>\n",
       "      <td>0.000000</td>\n",
       "      <td>0.000000e+00</td>\n",
       "      <td>0.000000e+00</td>\n",
       "      <td>1.000000e+00</td>\n",
       "      <td>0.000000e+00</td>\n",
       "    </tr>\n",
       "    <tr>\n",
       "      <th>shut</th>\n",
       "      <td>0.000000</td>\n",
       "      <td>0.000000e+00</td>\n",
       "      <td>0.000000e+00</td>\n",
       "      <td>0.000000e+00</td>\n",
       "      <td>1.000000e+00</td>\n",
       "    </tr>\n",
       "  </tbody>\n",
       "</table>\n",
       "</div>"
      ],
      "text/plain": [
       "            safe        unsafe         wiped        bitten          shut\n",
       "safe    1.000000  5.351749e-08  2.391805e-07  9.889101e-09  6.011022e-09\n",
       "unsafe  0.000072  9.991006e-01  7.966904e-05  7.473049e-04  2.329504e-07\n",
       "wiped   0.000000  0.000000e+00  1.000000e+00  0.000000e+00  0.000000e+00\n",
       "bitten  0.000000  0.000000e+00  0.000000e+00  1.000000e+00  0.000000e+00\n",
       "shut    0.000000  0.000000e+00  0.000000e+00  0.000000e+00  1.000000e+00"
      ]
     },
     "execution_count": 4,
     "metadata": {},
     "output_type": "execute_result"
    }
   ],
   "source": [
    "Q_s = utils.transition_probabilities(sequences)\n",
    "Q_s"
   ]
  },
  {
   "cell_type": "markdown",
   "metadata": {},
   "source": [
    "### Transition probabilities (discrete)\n",
    "Time unit = 60 seconds = minute"
   ]
  },
  {
   "cell_type": "code",
   "execution_count": 5,
   "metadata": {},
   "outputs": [
    {
     "data": {
      "text/html": [
       "<div>\n",
       "<style scoped>\n",
       "    .dataframe tbody tr th:only-of-type {\n",
       "        vertical-align: middle;\n",
       "    }\n",
       "\n",
       "    .dataframe tbody tr th {\n",
       "        vertical-align: top;\n",
       "    }\n",
       "\n",
       "    .dataframe thead th {\n",
       "        text-align: right;\n",
       "    }\n",
       "</style>\n",
       "<table border=\"1\" class=\"dataframe\">\n",
       "  <thead>\n",
       "    <tr style=\"text-align: right;\">\n",
       "      <th></th>\n",
       "      <th>safe</th>\n",
       "      <th>unsafe</th>\n",
       "      <th>wiped</th>\n",
       "      <th>bitten</th>\n",
       "      <th>shut</th>\n",
       "    </tr>\n",
       "  </thead>\n",
       "  <tbody>\n",
       "    <tr>\n",
       "      <th>safe</th>\n",
       "      <td>0.999981</td>\n",
       "      <td>0.000003</td>\n",
       "      <td>0.000014</td>\n",
       "      <td>5.933461e-07</td>\n",
       "      <td>3.606613e-07</td>\n",
       "    </tr>\n",
       "    <tr>\n",
       "      <th>unsafe</th>\n",
       "      <td>0.004333</td>\n",
       "      <td>0.946035</td>\n",
       "      <td>0.004780</td>\n",
       "      <td>4.483830e-02</td>\n",
       "      <td>1.397703e-05</td>\n",
       "    </tr>\n",
       "    <tr>\n",
       "      <th>wiped</th>\n",
       "      <td>0.000000</td>\n",
       "      <td>0.000000</td>\n",
       "      <td>1.000000</td>\n",
       "      <td>0.000000e+00</td>\n",
       "      <td>0.000000e+00</td>\n",
       "    </tr>\n",
       "    <tr>\n",
       "      <th>bitten</th>\n",
       "      <td>0.000000</td>\n",
       "      <td>0.000000</td>\n",
       "      <td>0.000000</td>\n",
       "      <td>1.000000e+00</td>\n",
       "      <td>0.000000e+00</td>\n",
       "    </tr>\n",
       "    <tr>\n",
       "      <th>shut</th>\n",
       "      <td>0.000000</td>\n",
       "      <td>0.000000</td>\n",
       "      <td>0.000000</td>\n",
       "      <td>0.000000e+00</td>\n",
       "      <td>1.000000e+00</td>\n",
       "    </tr>\n",
       "  </tbody>\n",
       "</table>\n",
       "</div>"
      ],
      "text/plain": [
       "            safe    unsafe     wiped        bitten          shut\n",
       "safe    0.999981  0.000003  0.000014  5.933461e-07  3.606613e-07\n",
       "unsafe  0.004333  0.946035  0.004780  4.483830e-02  1.397703e-05\n",
       "wiped   0.000000  0.000000  1.000000  0.000000e+00  0.000000e+00\n",
       "bitten  0.000000  0.000000  0.000000  1.000000e+00  0.000000e+00\n",
       "shut    0.000000  0.000000  0.000000  0.000000e+00  1.000000e+00"
      ]
     },
     "execution_count": 5,
     "metadata": {},
     "output_type": "execute_result"
    }
   ],
   "source": [
    "Q_m = utils.transition_probabilities(sequences, seconds_per_time_unit=60)\n",
    "Q_m"
   ]
  },
  {
   "cell_type": "markdown",
   "metadata": {},
   "source": [
    "### Transition rates (continuous case)\n",
    "aka infinitesimal generator matrix\n",
    "aka intensity matrix"
   ]
  },
  {
   "cell_type": "code",
   "execution_count": 6,
   "metadata": {},
   "outputs": [
    {
     "data": {
      "text/html": [
       "<div>\n",
       "<style scoped>\n",
       "    .dataframe tbody tr th:only-of-type {\n",
       "        vertical-align: middle;\n",
       "    }\n",
       "\n",
       "    .dataframe tbody tr th {\n",
       "        vertical-align: top;\n",
       "    }\n",
       "\n",
       "    .dataframe thead th {\n",
       "        text-align: right;\n",
       "    }\n",
       "</style>\n",
       "<table border=\"1\" class=\"dataframe\">\n",
       "  <thead>\n",
       "    <tr style=\"text-align: right;\">\n",
       "      <th></th>\n",
       "      <th>safe</th>\n",
       "      <th>unsafe</th>\n",
       "      <th>wiped</th>\n",
       "      <th>bitten</th>\n",
       "      <th>shut</th>\n",
       "    </tr>\n",
       "  </thead>\n",
       "  <tbody>\n",
       "    <tr>\n",
       "      <th>safe</th>\n",
       "      <td>-3.085981e-07</td>\n",
       "      <td>5.351749e-08</td>\n",
       "      <td>2.391805e-07</td>\n",
       "      <td>9.889101e-09</td>\n",
       "      <td>6.011022e-09</td>\n",
       "    </tr>\n",
       "    <tr>\n",
       "      <th>unsafe</th>\n",
       "      <td>7.221463e-05</td>\n",
       "      <td>-8.994216e-04</td>\n",
       "      <td>7.966904e-05</td>\n",
       "      <td>7.473049e-04</td>\n",
       "      <td>2.329504e-07</td>\n",
       "    </tr>\n",
       "    <tr>\n",
       "      <th>wiped</th>\n",
       "      <td>0.000000e+00</td>\n",
       "      <td>0.000000e+00</td>\n",
       "      <td>0.000000e+00</td>\n",
       "      <td>0.000000e+00</td>\n",
       "      <td>0.000000e+00</td>\n",
       "    </tr>\n",
       "    <tr>\n",
       "      <th>bitten</th>\n",
       "      <td>0.000000e+00</td>\n",
       "      <td>0.000000e+00</td>\n",
       "      <td>0.000000e+00</td>\n",
       "      <td>0.000000e+00</td>\n",
       "      <td>0.000000e+00</td>\n",
       "    </tr>\n",
       "    <tr>\n",
       "      <th>shut</th>\n",
       "      <td>0.000000e+00</td>\n",
       "      <td>0.000000e+00</td>\n",
       "      <td>0.000000e+00</td>\n",
       "      <td>0.000000e+00</td>\n",
       "      <td>0.000000e+00</td>\n",
       "    </tr>\n",
       "  </tbody>\n",
       "</table>\n",
       "</div>"
      ],
      "text/plain": [
       "                safe        unsafe         wiped        bitten          shut\n",
       "safe   -3.085981e-07  5.351749e-08  2.391805e-07  9.889101e-09  6.011022e-09\n",
       "unsafe  7.221463e-05 -8.994216e-04  7.966904e-05  7.473049e-04  2.329504e-07\n",
       "wiped   0.000000e+00  0.000000e+00  0.000000e+00  0.000000e+00  0.000000e+00\n",
       "bitten  0.000000e+00  0.000000e+00  0.000000e+00  0.000000e+00  0.000000e+00\n",
       "shut    0.000000e+00  0.000000e+00  0.000000e+00  0.000000e+00  0.000000e+00"
      ]
     },
     "execution_count": 6,
     "metadata": {},
     "output_type": "execute_result"
    }
   ],
   "source": [
    "Λ_s = utils.transition_rates(sequences)\n",
    "Λ_s"
   ]
  },
  {
   "cell_type": "markdown",
   "metadata": {},
   "source": [
    "### Sequence distribution"
   ]
  },
  {
   "cell_type": "code",
   "execution_count": 7,
   "metadata": {},
   "outputs": [
    {
     "data": {
      "text/plain": [
       "safe -> wiped                       0.657235\n",
       "safe                                0.163138\n",
       "safe -> unsafe -> bitten            0.122163\n",
       "safe -> shut                        0.016489\n",
       "safe -> bitten                      0.015994\n",
       "safe -> unsafe -> wiped             0.013024\n",
       "safe -> unsafe -> safe -> bitten    0.011196\n",
       "safe -> unsafe -> safe -> wiped     0.000381\n",
       "safe -> unsafe -> safe              0.000190\n",
       "safe -> unsafe                      0.000114\n",
       "safe -> unsafe -> safe -> shut      0.000038\n",
       "safe -> unsafe -> shut              0.000038\n",
       "dtype: float64"
      ]
     },
     "execution_count": 7,
     "metadata": {},
     "output_type": "execute_result"
    }
   ],
   "source": [
    "utils.sequence_distribution(sequences)"
   ]
  },
  {
   "cell_type": "markdown",
   "metadata": {},
   "source": [
    "### Time spent distribution\n",
    "What fraction of all dai-time is spent in state _i_ before moving to state *j*?"
   ]
  },
  {
   "cell_type": "code",
   "execution_count": 12,
   "metadata": {},
   "outputs": [
    {
     "data": {
      "text/html": [
       "<div>\n",
       "<style scoped>\n",
       "    .dataframe tbody tr th:only-of-type {\n",
       "        vertical-align: middle;\n",
       "    }\n",
       "\n",
       "    .dataframe tbody tr th {\n",
       "        vertical-align: top;\n",
       "    }\n",
       "\n",
       "    .dataframe thead th {\n",
       "        text-align: right;\n",
       "    }\n",
       "</style>\n",
       "<table border=\"1\" class=\"dataframe\">\n",
       "  <thead>\n",
       "    <tr style=\"text-align: right;\">\n",
       "      <th>to_state</th>\n",
       "      <th>&lt;end&gt;</th>\n",
       "      <th>bitten</th>\n",
       "      <th>safe</th>\n",
       "      <th>shut</th>\n",
       "      <th>unsafe</th>\n",
       "      <th>wiped</th>\n",
       "    </tr>\n",
       "    <tr>\n",
       "      <th>from_state</th>\n",
       "      <th></th>\n",
       "      <th></th>\n",
       "      <th></th>\n",
       "      <th></th>\n",
       "      <th></th>\n",
       "      <th></th>\n",
       "    </tr>\n",
       "  </thead>\n",
       "  <tbody>\n",
       "    <tr>\n",
       "      <th>safe</th>\n",
       "      <td>0.248137</td>\n",
       "      <td>0.015634</td>\n",
       "      <td>NaN</td>\n",
       "      <td>1.048293e-02</td>\n",
       "      <td>0.255243</td>\n",
       "      <td>4.704431e-01</td>\n",
       "    </tr>\n",
       "    <tr>\n",
       "      <th>unsafe</th>\n",
       "      <td>0.000006</td>\n",
       "      <td>0.000040</td>\n",
       "      <td>0.000012</td>\n",
       "      <td>5.955267e-10</td>\n",
       "      <td>NaN</td>\n",
       "      <td>4.954644e-07</td>\n",
       "    </tr>\n",
       "  </tbody>\n",
       "</table>\n",
       "</div>"
      ],
      "text/plain": [
       "to_state       <end>    bitten      safe          shut    unsafe         wiped\n",
       "from_state                                                                    \n",
       "safe        0.248137  0.015634       NaN  1.048293e-02  0.255243  4.704431e-01\n",
       "unsafe      0.000006  0.000040  0.000012  5.955267e-10       NaN  4.954644e-07"
      ]
     },
     "execution_count": 12,
     "metadata": {},
     "output_type": "execute_result"
    }
   ],
   "source": [
    "sequences_with_next_state = utils.dataframe_to_sequences_with_end_state(df)\n",
    "time_spent_matrix = utils.time_spent_before_state_change_distribution(sequences_with_next_state)\n",
    "time_spent_matrix"
   ]
  },
  {
   "cell_type": "code",
   "execution_count": 14,
   "metadata": {},
   "outputs": [
    {
     "data": {
      "text/plain": [
       "from_state\n",
       "safe      0.999941\n",
       "unsafe    0.000059\n",
       "dtype: float64"
      ]
     },
     "execution_count": 14,
     "metadata": {},
     "output_type": "execute_result"
    }
   ],
   "source": [
    "time_spent_matrix.sum(axis=1)"
   ]
  }
 ],
 "metadata": {
  "kernelspec": {
   "display_name": "Python 3",
   "language": "python",
   "name": "python3"
  },
  "language_info": {
   "codemirror_mode": {
    "name": "ipython",
    "version": 3
   },
   "file_extension": ".py",
   "mimetype": "text/x-python",
   "name": "python",
   "nbconvert_exporter": "python",
   "pygments_lexer": "ipython3",
   "version": "3.6.5"
  }
 },
 "nbformat": 4,
 "nbformat_minor": 2
}
